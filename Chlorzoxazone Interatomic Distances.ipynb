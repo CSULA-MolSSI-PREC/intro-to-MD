{
 "cells": [
  {
   "cell_type": "markdown",
   "id": "51fce7a0",
   "metadata": {},
   "source": [
    "# Interatomic distances in chlorzoxazone"
   ]
  },
  {
   "cell_type": "markdown",
   "id": "50f2f8e7",
   "metadata": {},
   "source": [
    "When we visualized the chlorzoxazone trajectory, we found that the molecule was fairly rigid and had little variation in its structure. One way to characterize the conformational ensemble of this molecule is to compute the distance between a pair of atoms that are far apart and analyze how they vary over the course of the simulation. In what follows, we'll take a look at the distance between the chlorine atom at one end of the molecule and an oxygen atom at the opposite end. "
   ]
  },
  {
   "cell_type": "code",
   "execution_count": null,
   "id": "211f52e4",
   "metadata": {},
   "outputs": [],
   "source": [
    "import mdtraj as md\n",
    "import nglview as nv\n",
    "import matplotlib.pyplot as plt\n",
    "%config InlineBackend.figure_formats = ['svg']"
   ]
  },
  {
   "cell_type": "code",
   "execution_count": null,
   "id": "fe073c37",
   "metadata": {},
   "outputs": [],
   "source": [
    "traj = md.load('chlorzoxazone_sim.dcd', top='chlorzoxazone.prmtop')\n",
    "view = nv.show_mdtraj(traj)\n",
    "view.clear_representations()\n",
    "view.add_ball_and_stick('CZZ')\n",
    "view"
   ]
  },
  {
   "cell_type": "markdown",
   "id": "0e2ba26e",
   "metadata": {},
   "source": [
    "If you place the mouse cursor over the green chlorine atom, you'll see that its name is given as `CL`. Similarly, if you place the mouse cursor over the red oxygen atom furthest away from the chlorine, you'll see that its name is given as `O8`. Let's see if we can find the unique indices – or numbers – that are assigned to these atoms as part of the system's topology information:"
   ]
  },
  {
   "cell_type": "code",
   "execution_count": null,
   "id": "03da8cb3",
   "metadata": {},
   "outputs": [],
   "source": [
    "atoms, bonds = traj.topology.to_dataframe()\n",
    "atoms"
   ]
  },
  {
   "cell_type": "markdown",
   "id": "a80e1cf0",
   "metadata": {},
   "source": [
    "Based on the DataFrame output above, it looks like the index for `CL1` is 0 and the index for `O8` is 7. We will use these indices to measure the distance between those two atoms and then create a histogram of those measurements:"
   ]
  },
  {
   "cell_type": "code",
   "execution_count": null,
   "id": "796e91c0",
   "metadata": {},
   "outputs": [],
   "source": [
    "atom_indices = [0, 7] # indices for pair of atoms\n",
    "intatomdist = md.compute_distances(traj, [atom_indices])\n",
    "\n",
    "plt.hist(intatomdist, bins=40)\n",
    "plt.title('Chlorzoxazone Cl1-O8 interatomic distances')\n",
    "plt.xlabel('Distance (nm)')\n",
    "plt.ylabel('Counts')\n",
    "plt.show()"
   ]
  },
  {
   "cell_type": "markdown",
   "id": "1e8ef0e3",
   "metadata": {},
   "source": [
    "The histogram above should look like a bell-shaped curve that is characteristic of the normal distribution. Quantities that follow the normal distribution can be summarized by calculating their mean and standard deviation to find their central value and spread, respectively. Because `intatomdist` is a NumPy array, we can use built-in methods of such arrays to find the mean and standard deviation:"
   ]
  },
  {
   "cell_type": "code",
   "execution_count": null,
   "id": "e7651b25",
   "metadata": {},
   "outputs": [],
   "source": [
    "print('The mean interatomic distance is:', intatomdist.mean(), 'nm')\n",
    "print('The st. dev. of the interatomic distance is:', intatomdist.std(), 'nm')"
   ]
  },
  {
   "cell_type": "markdown",
   "id": "c7b7ddbc",
   "metadata": {},
   "source": [
    "Here we see that the mean interatomic distance is approximately 0.7424 nm with a standard deviation of 0.0075 nm. (Your numbers will differ slightly!) In other words, the overall variation in the interatomic distance is only about 1% of its mean! (Does this agree with our qualitative sense that the structure of chlorzoxazone is fairly rigid?)"
   ]
  },
  {
   "cell_type": "markdown",
   "id": "968aec5e",
   "metadata": {},
   "source": [
    "## Your turn #1: repeat the interatomic distance analysis with a different pair of atoms\n",
    "\n",
    "1. Choose two other atoms in chlorzoxazone and determine their indices by mousing over the atoms in the trajectory visualization to see their names and then finding the relevant indices in the `atoms` DataFrame above.\n",
    "2. Paste the code block above into a new code block below.\n",
    "3. Replace `atom_indices` in the new code block and generate a histogram of the interatomic distances for that pair of atoms. (Remember to change the plot title to reflect the names of your pair of atoms!)"
   ]
  },
  {
   "cell_type": "markdown",
   "id": "c45de190",
   "metadata": {},
   "source": [
    "## Your turn #2: repeat the interatomic distance analysis with another molecule\n",
    "\n",
    "Carry out the following procedure:\n",
    "\n",
    "1. Make a copy of this notebook.\n",
    "2. Replace every instance of `chlorzoxazone` with `valproate` in the new notebook. (Don't forget the notebook title/filename!)\n",
    "3. Run the notebook *except for* the block of code that computes the interatomic distances and creates a histogram (i.e., the block of code immediately above this one).\n",
    "4. Identify the names of the two carbon atoms that are furthest apart in valproate and determine their indices following the procedure in **Your turn #1**.\n",
    "5. Replace `atom_indices` in the code block above and generate a histogram of the interatomic distances for that pair of carbon atoms."
   ]
  },
  {
   "cell_type": "markdown",
   "id": "d51d633c",
   "metadata": {},
   "source": [
    "## Your turn #3 (more advanced): create a histogram of a different degree of freedom\n",
    "\n",
    "Interatomic distances are only one way of characterizing the conformational ensemble of a molecule. Another possibility is to look at the torsion angle that defines \"twisting\" about a central bond of the molecule. A torsion angle is defined by a set of four atoms that are connected by three sequential bonds (for example: C3-C4-C5-C10 or H9-N9-C7-O8) and takes on values between -180° and 180° (or between -$\\pi$ and $\\pi$ in radians). \n",
    "\n",
    "Create a histogram of any torsion angle in chlorzoxazone using the `compute_dihedrals()` function of MDTraj. Remember that you will need to input a list of four atomic indices!"
   ]
  },
  {
   "cell_type": "code",
   "execution_count": null,
   "id": "ffcb7c80",
   "metadata": {},
   "outputs": [],
   "source": []
  }
 ],
 "metadata": {
  "kernelspec": {
   "display_name": "Python 3 (ipykernel)",
   "language": "python",
   "name": "python3"
  },
  "language_info": {
   "codemirror_mode": {
    "name": "ipython",
    "version": 3
   },
   "file_extension": ".py",
   "mimetype": "text/x-python",
   "name": "python",
   "nbconvert_exporter": "python",
   "pygments_lexer": "ipython3",
   "version": "3.9.7"
  }
 },
 "nbformat": 4,
 "nbformat_minor": 5
}
