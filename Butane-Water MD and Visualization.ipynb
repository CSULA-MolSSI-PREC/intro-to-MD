{
 "cells": [
  {
   "cell_type": "markdown",
   "id": "51fce7a0",
   "metadata": {},
   "source": [
    "# Running MD on a system of butane and water"
   ]
  },
  {
   "cell_type": "markdown",
   "id": "50f2f8e7",
   "metadata": {},
   "source": [
    "It's time to run your first MD simulation! In the code that follows below, you'll load in the force field parameters, initial coordinates (3D structure), and topology for a box of 500 water molecules and 50 butane molecules. Then you'll subject this system to energy minimization, followed by a short equilibration simulation and a longer production simulation (for calculating statistics). All of this is facilitated by a Python library called OpenMM (see: https://openmm.org)."
   ]
  },
  {
   "cell_type": "code",
   "execution_count": null,
   "id": "fd1a87ee",
   "metadata": {},
   "outputs": [],
   "source": [
    "from openmm import app\n",
    "import openmm as mm\n",
    "from simtk import unit\n",
    "from sys import stdout\n",
    "import time as time"
   ]
  },
  {
   "cell_type": "markdown",
   "id": "71e4f4eb",
   "metadata": {},
   "source": [
    "In the code below, see if you can identify the lines of code that provide the following ingredients necessary for MD:\n",
    "\n",
    "* initial coordinates\n",
    "* topology\n",
    "* force field\n",
    "* integrator\n",
    "* thermostat\n",
    "* barostat\n",
    "\n",
    "Note that in some cases, one line of code may do more than one thing!"
   ]
  },
  {
   "cell_type": "code",
   "execution_count": null,
   "id": "3d1c2fa5",
   "metadata": {},
   "outputs": [],
   "source": [
    "prmtop = app.AmberPrmtopFile('butane-water.prmtop')\n",
    "inpcrd = app.AmberInpcrdFile('butane-water.inpcrd')\n",
    "\n",
    "system = prmtop.createSystem(nonbondedMethod=app.PME, nonbondedCutoff=0.9*unit.nanometer, constraints=app.HBonds)\n",
    "temperature = 298.15*unit.kelvin\n",
    "pressure = 1*unit.bar\n",
    "integrator = mm.LangevinIntegrator(temperature, 1/unit.picosecond, 2*unit.femtoseconds)\n",
    "system.addForce(mm.MonteCarloBarostat(pressure, temperature))\n",
    "# run the simulations using CPUs\n",
    "#platform = mm.Platform.getPlatformByName('CPU')\n",
    "# run the system using an NVIDIA GPU\n",
    "platform = mm.Platform.getPlatformByName('CUDA')\n",
    "simulation = app.Simulation(prmtop.topology, system, integrator, platform)\n",
    "simulation.context.setPositions(inpcrd.positions)"
   ]
  },
  {
   "cell_type": "markdown",
   "id": "ae7bcf9b",
   "metadata": {},
   "source": [
    "The code below subjects the system to 100 steps of energy minimization. This is necessary because the molecules are packed into the simulation box in random orientations and some of the interatomic distances are likely too short (compared to what they should be). This leads to very large potential energies and very strong forces that can render any MD simulation numerically unstable. Energy minimization \"relieves\" these issues and ensures that the simulation starts from a more stable configuration."
   ]
  },
  {
   "cell_type": "code",
   "execution_count": null,
   "id": "14f4b0ef",
   "metadata": {},
   "outputs": [],
   "source": [
    "st = simulation.context.getState(getPositions=True,getEnergy=True)\n",
    "print(\"Potential energy before minimization is\", st.getPotentialEnergy())\n",
    "\n",
    "print('Minimizing...')\n",
    "simulation.minimizeEnergy(maxIterations=100)\n",
    "\n",
    "st = simulation.context.getState(getPositions=True,getEnergy=True)\n",
    "print(\"Potential energy after minimization is\", st.getPotentialEnergy())"
   ]
  },
  {
   "cell_type": "markdown",
   "id": "b6ee4b09",
   "metadata": {},
   "source": [
    "After energy minimization, we typically run a short simulation to bring the system to its equilibrium temperature and density."
   ]
  },
  {
   "cell_type": "code",
   "execution_count": null,
   "id": "552cac34",
   "metadata": {},
   "outputs": [],
   "source": [
    "simulation.context.setVelocitiesToTemperature(298.15*unit.kelvin)\n",
    "print('Equilibrating...')\n",
    "tinit=time.time()\n",
    "simulation.step(10000)\n",
    "tfinal=time.time()\n",
    "print('Done!')\n",
    "print('Time required for simulation:', tfinal-tinit, 'seconds')"
   ]
  },
  {
   "cell_type": "markdown",
   "id": "8255f3cb",
   "metadata": {},
   "source": [
    "Finally, we run the production simulation that we will later visualize (to see what happens!) and perform data anaylsis on. \n",
    "\n",
    "Note that we write the atomic coordinates out to a **trajectory file** (in this case: `butane-water_sim.dcd`) every 250 time steps. We don't do this every simulation step because otherwise the file size would become prohibitively large.\n",
    "\n",
    "This simulation is 500,000 time steps long. If $\\Delta t$ for each time step is 2 femtoseconds (1 fs = 10$^{-15}$ s), how long is this simulation in *pico*seconds (1 ps = 10$^{-12}$ s)?"
   ]
  },
  {
   "cell_type": "code",
   "execution_count": null,
   "id": "b4fd3a49",
   "metadata": {},
   "outputs": [],
   "source": [
    "simulation.reporters.append(app.DCDReporter('butane-water_sim.dcd', 250))\n",
    "simulation.reporters.append(app.StateDataReporter(stdout, 10000, step=True, time=True,\n",
    "    potentialEnergy=True, temperature=True, density=True, speed=True, separator='\\t'))\n",
    "\n",
    "\n",
    "print('Running Production...')\n",
    "simulation.step(500000)\n",
    "print('Done!')"
   ]
  },
  {
   "cell_type": "markdown",
   "id": "43a94508",
   "metadata": {},
   "source": [
    "**Congratulations!** You've just performed your first MD simulation. Now let's take a look at your simulation trajectory!"
   ]
  },
  {
   "cell_type": "markdown",
   "id": "a22f637d",
   "metadata": {},
   "source": [
    "# Visualizing the butane-water MD simulation\n",
    "\n",
    "After running an MD simulation, it's often useful (and fun!) to visualize the simulation trajectory. To do this we will read in the trajectory file (using the library MDTraj) and then view it in this notebook (using the library NGLview)."
   ]
  },
  {
   "cell_type": "code",
   "execution_count": null,
   "id": "af75d779",
   "metadata": {},
   "outputs": [],
   "source": [
    "import mdtraj as md\n",
    "import nglview as nv"
   ]
  },
  {
   "cell_type": "markdown",
   "id": "fbbd50c2",
   "metadata": {},
   "source": [
    "The code below is how we load in the trajectory file. We'll also gather the atom names and topology into pandas DataFrames."
   ]
  },
  {
   "cell_type": "code",
   "execution_count": null,
   "id": "a8fee0b0",
   "metadata": {},
   "outputs": [],
   "source": [
    "traj = md.load('butane-water_sim.dcd', top='butane-water.prmtop')\n",
    "atoms, bonds = traj.topology.to_dataframe()\n",
    "atoms"
   ]
  },
  {
   "cell_type": "markdown",
   "id": "125a1ea6",
   "metadata": {},
   "source": [
    "Next, we visualize the trajectory using NGLview. Note that we can use different **representations** for different molecules (or even atoms) when performing our visualization."
   ]
  },
  {
   "cell_type": "code",
   "execution_count": null,
   "id": "2970caf3",
   "metadata": {},
   "outputs": [],
   "source": [
    "view = nv.show_mdtraj(traj)\n",
    "view.clear_representations()\n",
    "view.add_spacefill('BUT')\n",
    "view.add_ball_and_stick('HOH')\n",
    "view"
   ]
  },
  {
   "cell_type": "markdown",
   "id": "dee6578a",
   "metadata": {},
   "source": [
    "# Your turn #1: what's happening here?\n",
    "\n",
    "What do you see happening to the butane molecules and water molecules as the simulation progresses? Is there something about the respective chemical properties of these molecules that could explain this?"
   ]
  },
  {
   "cell_type": "markdown",
   "id": "9d75ebee",
   "metadata": {},
   "source": [
    "# Your turn #2: repeat the MD simulation and visualization workflow with another molecular system\n",
    "\n",
    "Carry out the following procedure:\n",
    "\n",
    "1. Make a copy of this notebook.\n",
    "2. Replace every instance of `butane` with `ethylenediamine` in the new notebook. (Don't forget the notebook title/filename!)\n",
    "3. Execute the MD portion of the notebook to completion. \n",
    "4. After the MD portion has finished, execute the visualization portion. (There is an additional change you'll need to make in the visualization portion; see if you can figure it out on your own!) \n",
    "5. Try to answer **Your turn #1** again for ethylenediamine."
   ]
  },
  {
   "cell_type": "code",
   "execution_count": null,
   "id": "6dc159ff",
   "metadata": {},
   "outputs": [],
   "source": []
  }
 ],
 "metadata": {
  "kernelspec": {
   "display_name": "Python 3 (ipykernel)",
   "language": "python",
   "name": "python3"
  },
  "language_info": {
   "codemirror_mode": {
    "name": "ipython",
    "version": 3
   },
   "file_extension": ".py",
   "mimetype": "text/x-python",
   "name": "python",
   "nbconvert_exporter": "python",
   "pygments_lexer": "ipython3",
   "version": "3.9.13"
  }
 },
 "nbformat": 4,
 "nbformat_minor": 5
}
