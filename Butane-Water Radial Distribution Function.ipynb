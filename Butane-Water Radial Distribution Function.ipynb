{
 "cells": [
  {
   "cell_type": "markdown",
   "id": "b97a85f6",
   "metadata": {},
   "source": [
    "# Quantifying \"clumpiness\" in solution: the radial distribution function"
   ]
  },
  {
   "cell_type": "markdown",
   "id": "68f06369",
   "metadata": {},
   "source": [
    "It was easy enough for us to see that the butane molecules clumped together (i.e., aggregated) in water, but how could we quantify this observation?\n",
    "\n",
    "One possibility is to compute a **radial distribution function**. Briefly, a radial distribution function (or **rdf**) computes the probability of finding a given pair of atoms at each distance and normalizes this by the average number density of those atoms in the simulation box. That might sound complicated – and it is! – but the basic idea is this: an rdf value of 1.0 indicates that probability of finding that pair of atoms at the specified distance is equal to what we would expect if the atoms were uniformly distributed (no clumping!) in the simulation box. rdf values greater than 1.0 indicate that there are more atom pairs observed at that distance than expected (enrichment, indicative of aggregation), whereas values less than 1.0 indicate that there are fewer atom pairs observed at that distance than expected (depletion, indicative of exclusion). \n",
    "\n",
    "For more info about rdfs, please see: https://en.wikibooks.org/wiki/Molecular_Simulation/Radial_Distribution_Functions"
   ]
  },
  {
   "cell_type": "code",
   "execution_count": null,
   "id": "5ebf3ef7",
   "metadata": {},
   "outputs": [],
   "source": [
    "import mdtraj\n",
    "import matplotlib.pyplot as plt\n",
    "%config InlineBackend.figure_formats = ['svg']"
   ]
  },
  {
   "cell_type": "code",
   "execution_count": null,
   "id": "9189dc04",
   "metadata": {},
   "outputs": [],
   "source": [
    "traj = mdtraj.load('butane-water_sim.dcd', top='butane-water.prmtop')\n",
    "atoms, bonds = traj.topology.to_dataframe()\n",
    "atoms.head()"
   ]
  },
  {
   "cell_type": "markdown",
   "id": "a0f928c8",
   "metadata": {},
   "source": [
    "After reading in the trajectory, we can then use MDTraj to directly compute the rdf by supplying just a few parameters (most notably the atom pairs to be considered):"
   ]
  },
  {
   "cell_type": "code",
   "execution_count": null,
   "id": "c24dde24",
   "metadata": {},
   "outputs": [],
   "source": [
    "r_min = 0.0 # smallest interatomic distance to consider\n",
    "r_max = 1.25 # largest interatomic distance to consider\n",
    "bins = 100 # how many \"bins\" to use for grouping our rdf data\n",
    "\n",
    "carbon_pairs = traj.top.select_pairs(\"name C2\", \"name C2\") # specify the atom pairs\n",
    "\n",
    "dist_butCC, rdf_butCC = mdtraj.compute_rdf(traj, carbon_pairs, (r_min, r_max), n_bins=bins)"
   ]
  },
  {
   "cell_type": "markdown",
   "id": "db202f55",
   "metadata": {},
   "source": [
    "We can then generate a plot of the rdf:"
   ]
  },
  {
   "cell_type": "code",
   "execution_count": null,
   "id": "edc9bf6d",
   "metadata": {},
   "outputs": [],
   "source": [
    "plt.plot(dist_butCC, rdf_butCC)\n",
    "plt.xlim(0,1.4)\n",
    "plt.ylim(0,4.5)\n",
    "plt.xlabel('C2-C2 interatomic distance (nm)')\n",
    "plt.ylabel('radial dist. func. g(r)')\n",
    "plt.show()"
   ]
  },
  {
   "cell_type": "markdown",
   "id": "941b9b1c",
   "metadata": {},
   "source": [
    "Some questions to answer for yourself:\n",
    "\n",
    "1. What are some features of this plot that stand out to you? \n",
    "2. Why is the value of the rdf equal to 0 for very small interatomic distances?\n",
    "3. Based on the explanation provided at the top of this notebook, do you see evidence of butane clumping together (aggregating) in this plot?"
   ]
  },
  {
   "cell_type": "markdown",
   "id": "c23870a0",
   "metadata": {},
   "source": [
    "## Your turn #1: perform this analysis for another simulation\n",
    "\n",
    "Carry out the following procedure:\n",
    "\n",
    "1. Make a copy of this notebook.\n",
    "2. Replace every instance of `butane` with `ethylenediamine` in the new notebook. (Don't forget the notebook title/filename!)\n",
    "3. Execute the notebook to completion. How does the plot of the radial distribution function from the ethylenediamine-water simulation compare with the one from the butane-water simulation? Does this agree with what we saw when we visualized the simulation trajectories?"
   ]
  },
  {
   "cell_type": "markdown",
   "id": "0c900834",
   "metadata": {},
   "source": [
    "## Your turn #2: perform this analysis for the water molecules\n",
    "\n",
    "You might also be interested to see how the water molecules are distributed in the simulation box. Code is included for computing the rdf for the oxygen atoms in the water molecules below. Add your own code to generate a plot of the rdf. \n",
    "\n",
    "Why do you think the rdf is so strongly peaked at certain distances? (What is true about the arrangement of water molecules when they are in a liquid state?)"
   ]
  },
  {
   "cell_type": "code",
   "execution_count": null,
   "id": "cc7a894d",
   "metadata": {},
   "outputs": [],
   "source": [
    "oxygen_pairs = traj.top.select_pairs(\"name O\", \"name O\")\n",
    "\n",
    "dist_watOO, rdf_watOO = mdtraj.compute_rdf(traj, oxygen_pairs, (r_min, r_max), n_bins=bins)"
   ]
  },
  {
   "cell_type": "code",
   "execution_count": null,
   "id": "489ea1bb",
   "metadata": {},
   "outputs": [],
   "source": [
    "## write code to plot the water O-O rdf here ##"
   ]
  }
 ],
 "metadata": {
  "kernelspec": {
   "display_name": "Python 3 (ipykernel)",
   "language": "python",
   "name": "python3"
  },
  "language_info": {
   "codemirror_mode": {
    "name": "ipython",
    "version": 3
   },
   "file_extension": ".py",
   "mimetype": "text/x-python",
   "name": "python",
   "nbconvert_exporter": "python",
   "pygments_lexer": "ipython3",
   "version": "3.9.13"
  }
 },
 "nbformat": 4,
 "nbformat_minor": 5
}
