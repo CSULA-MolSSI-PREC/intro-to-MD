{
 "cells": [
  {
   "cell_type": "markdown",
   "id": "51fce7a0",
   "metadata": {},
   "source": [
    "# MD simulation of a drug molecule (chlorzoxazone)"
   ]
  },
  {
   "cell_type": "markdown",
   "id": "50f2f8e7",
   "metadata": {},
   "source": [
    "Chlorzoxazone is a small drug molecule. In this notebook we'll run a short simulation of a single chlorzoxazone molecule in *implicit* solvent, a \"mean field\" way of representing the molecule's interactions with water. (You can read more about implicit solvent models here: https://en.wikipedia.org/wiki/Implicit_solvation.) We will then visualize the simulation in this same notebook. "
   ]
  },
  {
   "cell_type": "code",
   "execution_count": null,
   "id": "fd1a87ee",
   "metadata": {},
   "outputs": [],
   "source": [
    "from openmm import app\n",
    "import openmm as mm\n",
    "from simtk import unit\n",
    "from sys import stdout\n",
    "import time as time"
   ]
  },
  {
   "cell_type": "code",
   "execution_count": null,
   "id": "3d1c2fa5",
   "metadata": {},
   "outputs": [],
   "source": [
    "prmtop = app.AmberPrmtopFile('chlorzoxazone.prmtop')\n",
    "inpcrd = app.AmberInpcrdFile('chlorzoxazone.inpcrd')\n",
    "\n",
    "system = prmtop.createSystem(nonbondedMethod=app.NoCutoff, constraints=app.HBonds, implicitSolvent=app.HCT)\n",
    "temperature = 298.15*unit.kelvin\n",
    "integrator = mm.LangevinIntegrator(temperature, 1/unit.picosecond, 2*unit.femtoseconds)\n",
    "platform = mm.Platform.getPlatformByName('CUDA')\n",
    "simulation = app.Simulation(prmtop.topology, system, integrator, platform)\n",
    "simulation.context.setPositions(inpcrd.positions)"
   ]
  },
  {
   "cell_type": "markdown",
   "id": "ae7bcf9b",
   "metadata": {},
   "source": [
    "### Questions for you to answer!\n",
    "\n",
    "1. What is happening in the next three blocks of code?\n",
    "2. How long is the production simulation in *nano*seconds?"
   ]
  },
  {
   "cell_type": "code",
   "execution_count": null,
   "id": "14f4b0ef",
   "metadata": {},
   "outputs": [],
   "source": [
    "st = simulation.context.getState(getPositions=True,getEnergy=True)\n",
    "print(\"Potential energy before minimization is\", st.getPotentialEnergy())\n",
    "\n",
    "print('Minimizing...')\n",
    "simulation.minimizeEnergy(maxIterations=100)\n",
    "\n",
    "st = simulation.context.getState(getPositions=True,getEnergy=True)\n",
    "print(\"Potential energy after minimization is\", st.getPotentialEnergy())"
   ]
  },
  {
   "cell_type": "code",
   "execution_count": null,
   "id": "552cac34",
   "metadata": {},
   "outputs": [],
   "source": [
    "simulation.context.setVelocitiesToTemperature(298.15*unit.kelvin)\n",
    "print('Equilibrating...')\n",
    "tinit=time.time()\n",
    "simulation.step(10000)\n",
    "tfinal=time.time()\n",
    "print('Done!')\n",
    "print('Time required for simulation:', tfinal-tinit, 'seconds')"
   ]
  },
  {
   "cell_type": "code",
   "execution_count": null,
   "id": "b4fd3a49",
   "metadata": {},
   "outputs": [],
   "source": [
    "simulation.reporters.append(app.DCDReporter('chlorzoxazone_sim.dcd', 250))\n",
    "simulation.reporters.append(app.StateDataReporter(stdout, 50000, step=True, time=True,\n",
    "    potentialEnergy=True, temperature=True, speed=True, separator='\\t'))\n",
    "\n",
    "\n",
    "print('Running Production...')\n",
    "simulation.step(2500000)\n",
    "print('Done!')"
   ]
  },
  {
   "cell_type": "markdown",
   "id": "43a94508",
   "metadata": {},
   "source": [
    "Now we can visualize the trajectory just as we did before. Remember that we need to load the MDTraj and NGLview libraries first!"
   ]
  },
  {
   "cell_type": "code",
   "execution_count": null,
   "id": "211f52e4",
   "metadata": {},
   "outputs": [],
   "source": [
    "import mdtraj as md\n",
    "import nglview as nv\n",
    "\n",
    "traj = md.load('chlorzoxazone_sim.dcd', top='chlorzoxazone.prmtop')\n",
    "atoms, bonds = traj.topology.to_dataframe()\n",
    "atoms.head()"
   ]
  },
  {
   "cell_type": "code",
   "execution_count": null,
   "id": "b3bab428",
   "metadata": {},
   "outputs": [],
   "source": [
    "view = nv.show_mdtraj(traj)\n",
    "view.clear_representations()\n",
    "view.add_ball_and_stick('CZZ')\n",
    "view"
   ]
  },
  {
   "cell_type": "markdown",
   "id": "ab62b4c6",
   "metadata": {},
   "source": [
    "# Your turn #1: is this molecule (very) flexible?\n",
    "\n",
    "What do you see happening in this trajectory? \n",
    "\n",
    "Assuming we ignored the 3D rotations of the molecule, does it appear to be very flexible? For example, do there appear to be big changes in the distances between atoms at opposite ends of the molecule?\n",
    "\n",
    "What aspect(s) of this molecule's structure do you think might explain your observations about its flexibility?"
   ]
  },
  {
   "cell_type": "markdown",
   "id": "849dfb8d",
   "metadata": {},
   "source": [
    "# Your turn #2: repeat the MD simulation and visualization workflow with another molecular system\n",
    "\n",
    "Carry out the following procedure:\n",
    "\n",
    "1. Make a copy of this notebook.\n",
    "2. Replace every instance of `chlorzoxazone` with `valproate` in both notebooks. (Don't forget the notebook title/filename!)\n",
    "3. Execute the notebook to completion. Note that there is an additional change you'll need to make in the visualization section; see if you can figure it out on your own!\n",
    "4. Try to answer **Your turn #1** again for valproate."
   ]
  },
  {
   "cell_type": "markdown",
   "id": "1f3fe1da",
   "metadata": {},
   "source": [
    "# Your turn #3: what do these drug molecules do?\n",
    "\n",
    "Do Google searches for chlorzoxazone and valproate. What are these drug molecules used for?"
   ]
  },
  {
   "cell_type": "code",
   "execution_count": null,
   "id": "d7821f17",
   "metadata": {},
   "outputs": [],
   "source": []
  }
 ],
 "metadata": {
  "kernelspec": {
   "display_name": "Python 3 (ipykernel)",
   "language": "python",
   "name": "python3"
  },
  "language_info": {
   "codemirror_mode": {
    "name": "ipython",
    "version": 3
   },
   "file_extension": ".py",
   "mimetype": "text/x-python",
   "name": "python",
   "nbconvert_exporter": "python",
   "pygments_lexer": "ipython3",
   "version": "3.9.13"
  }
 },
 "nbformat": 4,
 "nbformat_minor": 5
}
